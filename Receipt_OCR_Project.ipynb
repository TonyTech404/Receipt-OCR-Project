{
  "nbformat": 4,
  "nbformat_minor": 0,
  "metadata": {
    "colab": {
      "provenance": []
    },
    "kernelspec": {
      "name": "python3",
      "display_name": "Python 3"
    },
    "language_info": {
      "name": "python"
    }
  },
  "cells": [
    {
      "cell_type": "code",
      "execution_count": null,
      "metadata": {
        "colab": {
          "base_uri": "https://localhost:8080/"
        },
        "id": "sc8Fwlussfzg",
        "outputId": "2ab83d50-a6b7-467a-c05f-de956049c3e3"
      },
      "outputs": [
        {
          "output_type": "stream",
          "name": "stdout",
          "text": [
            "Looking in indexes: https://download.pytorch.org/whl/cpu\n",
            "Requirement already satisfied: torch in /usr/local/lib/python3.10/dist-packages (2.3.0+cu121)\n",
            "Requirement already satisfied: torchvision in /usr/local/lib/python3.10/dist-packages (0.18.0+cu121)\n",
            "Requirement already satisfied: torchaudio in /usr/local/lib/python3.10/dist-packages (2.3.0+cu121)\n",
            "Requirement already satisfied: filelock in /usr/local/lib/python3.10/dist-packages (from torch) (3.14.0)\n",
            "Requirement already satisfied: typing-extensions>=4.8.0 in /usr/local/lib/python3.10/dist-packages (from torch) (4.12.1)\n",
            "Requirement already satisfied: sympy in /usr/local/lib/python3.10/dist-packages (from torch) (1.12.1)\n",
            "Requirement already satisfied: networkx in /usr/local/lib/python3.10/dist-packages (from torch) (3.3)\n",
            "Requirement already satisfied: jinja2 in /usr/local/lib/python3.10/dist-packages (from torch) (3.1.4)\n",
            "Requirement already satisfied: fsspec in /usr/local/lib/python3.10/dist-packages (from torch) (2023.6.0)\n",
            "INFO: pip is looking at multiple versions of torch to determine which version is compatible with other requirements. This could take a while.\n",
            "Collecting torch\n",
            "  Downloading https://download.pytorch.org/whl/cpu/torch-2.3.1%2Bcpu-cp310-cp310-linux_x86_64.whl (190.4 MB)\n",
            "\u001b[2K     \u001b[90m━━━━━━━━━━━━━━━━━━━━━━━━━━━━━━━━━━━━━━━━\u001b[0m \u001b[32m190.4/190.4 MB\u001b[0m \u001b[31m4.7 MB/s\u001b[0m eta \u001b[36m0:00:00\u001b[0m\n",
            "\u001b[?25hRequirement already satisfied: numpy in /usr/local/lib/python3.10/dist-packages (from torchvision) (1.25.2)\n",
            "Requirement already satisfied: pillow!=8.3.*,>=5.3.0 in /usr/local/lib/python3.10/dist-packages (from torchvision) (9.4.0)\n",
            "  Downloading https://download.pytorch.org/whl/cpu/torch-2.3.0%2Bcpu-cp310-cp310-linux_x86_64.whl (190.4 MB)\n",
            "\u001b[2K     \u001b[90m━━━━━━━━━━━━━━━━━━━━━━━━━━━━━━━━━━━━━━━━\u001b[0m \u001b[32m190.4/190.4 MB\u001b[0m \u001b[31m6.0 MB/s\u001b[0m eta \u001b[36m0:00:00\u001b[0m\n",
            "\u001b[?25hRequirement already satisfied: MarkupSafe>=2.0 in /usr/local/lib/python3.10/dist-packages (from jinja2->torch) (2.1.5)\n",
            "Requirement already satisfied: mpmath<1.4.0,>=1.1.0 in /usr/local/lib/python3.10/dist-packages (from sympy->torch) (1.3.0)\n",
            "Installing collected packages: torch\n",
            "  Attempting uninstall: torch\n",
            "    Found existing installation: torch 2.3.0+cu121\n",
            "    Uninstalling torch-2.3.0+cu121:\n",
            "      Successfully uninstalled torch-2.3.0+cu121\n",
            "Successfully installed torch-2.3.0+cpu\n"
          ]
        }
      ],
      "source": [
        "!pip install torch torchvision torchaudio --index-url https://download.pytorch.org/whl/cpu\n"
      ]
    },
    {
      "cell_type": "code",
      "source": [
        "!pip install easyocr"
      ],
      "metadata": {
        "colab": {
          "base_uri": "https://localhost:8080/"
        },
        "id": "TFfXpV1osm5g",
        "outputId": "97b85ad3-2e4a-4cdd-8a9f-6712989ec9ed"
      },
      "execution_count": null,
      "outputs": [
        {
          "output_type": "stream",
          "name": "stdout",
          "text": [
            "Collecting easyocr\n",
            "  Downloading easyocr-1.7.1-py3-none-any.whl (2.9 MB)\n",
            "\u001b[2K     \u001b[90m━━━━━━━━━━━━━━━━━━━━━━━━━━━━━━━━━━━━━━━━\u001b[0m \u001b[32m2.9/2.9 MB\u001b[0m \u001b[31m27.4 MB/s\u001b[0m eta \u001b[36m0:00:00\u001b[0m\n",
            "\u001b[?25hRequirement already satisfied: torch in /usr/local/lib/python3.10/dist-packages (from easyocr) (2.3.0+cpu)\n",
            "Requirement already satisfied: torchvision>=0.5 in /usr/local/lib/python3.10/dist-packages (from easyocr) (0.18.0+cu121)\n",
            "Requirement already satisfied: opencv-python-headless in /usr/local/lib/python3.10/dist-packages (from easyocr) (4.10.0.82)\n",
            "Requirement already satisfied: scipy in /usr/local/lib/python3.10/dist-packages (from easyocr) (1.11.4)\n",
            "Requirement already satisfied: numpy in /usr/local/lib/python3.10/dist-packages (from easyocr) (1.25.2)\n",
            "Requirement already satisfied: Pillow in /usr/local/lib/python3.10/dist-packages (from easyocr) (9.4.0)\n",
            "Requirement already satisfied: scikit-image in /usr/local/lib/python3.10/dist-packages (from easyocr) (0.19.3)\n",
            "Collecting python-bidi (from easyocr)\n",
            "  Downloading python_bidi-0.4.2-py2.py3-none-any.whl (30 kB)\n",
            "Requirement already satisfied: PyYAML in /usr/local/lib/python3.10/dist-packages (from easyocr) (6.0.1)\n",
            "Requirement already satisfied: Shapely in /usr/local/lib/python3.10/dist-packages (from easyocr) (2.0.4)\n",
            "Collecting pyclipper (from easyocr)\n",
            "  Downloading pyclipper-1.3.0.post5-cp310-cp310-manylinux_2_12_x86_64.manylinux2010_x86_64.whl (908 kB)\n",
            "\u001b[2K     \u001b[90m━━━━━━━━━━━━━━━━━━━━━━━━━━━━━━━━━━━━━━━━\u001b[0m \u001b[32m908.3/908.3 kB\u001b[0m \u001b[31m52.2 MB/s\u001b[0m eta \u001b[36m0:00:00\u001b[0m\n",
            "\u001b[?25hCollecting ninja (from easyocr)\n",
            "  Downloading ninja-1.11.1.1-py2.py3-none-manylinux1_x86_64.manylinux_2_5_x86_64.whl (307 kB)\n",
            "\u001b[2K     \u001b[90m━━━━━━━━━━━━━━━━━━━━━━━━━━━━━━━━━━━━━━━━\u001b[0m \u001b[32m307.2/307.2 kB\u001b[0m \u001b[31m32.1 MB/s\u001b[0m eta \u001b[36m0:00:00\u001b[0m\n",
            "\u001b[?25hRequirement already satisfied: filelock in /usr/local/lib/python3.10/dist-packages (from torch->easyocr) (3.14.0)\n",
            "Requirement already satisfied: typing-extensions>=4.8.0 in /usr/local/lib/python3.10/dist-packages (from torch->easyocr) (4.12.1)\n",
            "Requirement already satisfied: sympy in /usr/local/lib/python3.10/dist-packages (from torch->easyocr) (1.12.1)\n",
            "Requirement already satisfied: networkx in /usr/local/lib/python3.10/dist-packages (from torch->easyocr) (3.3)\n",
            "Requirement already satisfied: jinja2 in /usr/local/lib/python3.10/dist-packages (from torch->easyocr) (3.1.4)\n",
            "Requirement already satisfied: fsspec in /usr/local/lib/python3.10/dist-packages (from torch->easyocr) (2023.6.0)\n",
            "Requirement already satisfied: six in /usr/local/lib/python3.10/dist-packages (from python-bidi->easyocr) (1.16.0)\n",
            "Requirement already satisfied: imageio>=2.4.1 in /usr/local/lib/python3.10/dist-packages (from scikit-image->easyocr) (2.31.6)\n",
            "Requirement already satisfied: tifffile>=2019.7.26 in /usr/local/lib/python3.10/dist-packages (from scikit-image->easyocr) (2024.5.22)\n",
            "Requirement already satisfied: PyWavelets>=1.1.1 in /usr/local/lib/python3.10/dist-packages (from scikit-image->easyocr) (1.6.0)\n",
            "Requirement already satisfied: packaging>=20.0 in /usr/local/lib/python3.10/dist-packages (from scikit-image->easyocr) (24.0)\n",
            "Requirement already satisfied: MarkupSafe>=2.0 in /usr/local/lib/python3.10/dist-packages (from jinja2->torch->easyocr) (2.1.5)\n",
            "Requirement already satisfied: mpmath<1.4.0,>=1.1.0 in /usr/local/lib/python3.10/dist-packages (from sympy->torch->easyocr) (1.3.0)\n",
            "Installing collected packages: pyclipper, ninja, python-bidi, easyocr\n",
            "Successfully installed easyocr-1.7.1 ninja-1.11.1.1 pyclipper-1.3.0.post5 python-bidi-0.4.2\n"
          ]
        }
      ]
    },
    {
      "cell_type": "code",
      "source": [
        "pip install --upgrade easyocr torchvision torch\n"
      ],
      "metadata": {
        "colab": {
          "base_uri": "https://localhost:8080/"
        },
        "id": "J_POQnBCtLlC",
        "outputId": "870b37fd-e443-41d1-ea2e-25bc86ddb002"
      },
      "execution_count": null,
      "outputs": [
        {
          "output_type": "stream",
          "name": "stdout",
          "text": [
            "Requirement already satisfied: easyocr in /usr/local/lib/python3.10/dist-packages (1.7.1)\n",
            "Requirement already satisfied: torchvision in /usr/local/lib/python3.10/dist-packages (0.18.1)\n",
            "Requirement already satisfied: torch in /usr/local/lib/python3.10/dist-packages (2.3.1)\n",
            "Requirement already satisfied: opencv-python-headless in /usr/local/lib/python3.10/dist-packages (from easyocr) (4.10.0.82)\n",
            "Requirement already satisfied: scipy in /usr/local/lib/python3.10/dist-packages (from easyocr) (1.11.4)\n",
            "Requirement already satisfied: numpy in /usr/local/lib/python3.10/dist-packages (from easyocr) (1.25.2)\n",
            "Requirement already satisfied: Pillow in /usr/local/lib/python3.10/dist-packages (from easyocr) (9.4.0)\n",
            "Requirement already satisfied: scikit-image in /usr/local/lib/python3.10/dist-packages (from easyocr) (0.19.3)\n",
            "Requirement already satisfied: python-bidi in /usr/local/lib/python3.10/dist-packages (from easyocr) (0.4.2)\n",
            "Requirement already satisfied: PyYAML in /usr/local/lib/python3.10/dist-packages (from easyocr) (6.0.1)\n",
            "Requirement already satisfied: Shapely in /usr/local/lib/python3.10/dist-packages (from easyocr) (2.0.4)\n",
            "Requirement already satisfied: pyclipper in /usr/local/lib/python3.10/dist-packages (from easyocr) (1.3.0.post5)\n",
            "Requirement already satisfied: ninja in /usr/local/lib/python3.10/dist-packages (from easyocr) (1.11.1.1)\n",
            "Requirement already satisfied: filelock in /usr/local/lib/python3.10/dist-packages (from torch) (3.14.0)\n",
            "Requirement already satisfied: typing-extensions>=4.8.0 in /usr/local/lib/python3.10/dist-packages (from torch) (4.12.1)\n",
            "Requirement already satisfied: sympy in /usr/local/lib/python3.10/dist-packages (from torch) (1.12.1)\n",
            "Requirement already satisfied: networkx in /usr/local/lib/python3.10/dist-packages (from torch) (3.3)\n",
            "Requirement already satisfied: jinja2 in /usr/local/lib/python3.10/dist-packages (from torch) (3.1.4)\n",
            "Requirement already satisfied: fsspec in /usr/local/lib/python3.10/dist-packages (from torch) (2023.6.0)\n",
            "Requirement already satisfied: nvidia-cuda-nvrtc-cu12==12.1.105 in /usr/local/lib/python3.10/dist-packages (from torch) (12.1.105)\n",
            "Requirement already satisfied: nvidia-cuda-runtime-cu12==12.1.105 in /usr/local/lib/python3.10/dist-packages (from torch) (12.1.105)\n",
            "Requirement already satisfied: nvidia-cuda-cupti-cu12==12.1.105 in /usr/local/lib/python3.10/dist-packages (from torch) (12.1.105)\n",
            "Requirement already satisfied: nvidia-cudnn-cu12==8.9.2.26 in /usr/local/lib/python3.10/dist-packages (from torch) (8.9.2.26)\n",
            "Requirement already satisfied: nvidia-cublas-cu12==12.1.3.1 in /usr/local/lib/python3.10/dist-packages (from torch) (12.1.3.1)\n",
            "Requirement already satisfied: nvidia-cufft-cu12==11.0.2.54 in /usr/local/lib/python3.10/dist-packages (from torch) (11.0.2.54)\n",
            "Requirement already satisfied: nvidia-curand-cu12==10.3.2.106 in /usr/local/lib/python3.10/dist-packages (from torch) (10.3.2.106)\n",
            "Requirement already satisfied: nvidia-cusolver-cu12==11.4.5.107 in /usr/local/lib/python3.10/dist-packages (from torch) (11.4.5.107)\n",
            "Requirement already satisfied: nvidia-cusparse-cu12==12.1.0.106 in /usr/local/lib/python3.10/dist-packages (from torch) (12.1.0.106)\n",
            "Requirement already satisfied: nvidia-nccl-cu12==2.20.5 in /usr/local/lib/python3.10/dist-packages (from torch) (2.20.5)\n",
            "Requirement already satisfied: nvidia-nvtx-cu12==12.1.105 in /usr/local/lib/python3.10/dist-packages (from torch) (12.1.105)\n",
            "Requirement already satisfied: triton==2.3.1 in /usr/local/lib/python3.10/dist-packages (from torch) (2.3.1)\n",
            "Requirement already satisfied: nvidia-nvjitlink-cu12 in /usr/local/lib/python3.10/dist-packages (from nvidia-cusolver-cu12==11.4.5.107->torch) (12.5.40)\n",
            "Requirement already satisfied: MarkupSafe>=2.0 in /usr/local/lib/python3.10/dist-packages (from jinja2->torch) (2.1.5)\n",
            "Requirement already satisfied: six in /usr/local/lib/python3.10/dist-packages (from python-bidi->easyocr) (1.16.0)\n",
            "Requirement already satisfied: imageio>=2.4.1 in /usr/local/lib/python3.10/dist-packages (from scikit-image->easyocr) (2.31.6)\n",
            "Requirement already satisfied: tifffile>=2019.7.26 in /usr/local/lib/python3.10/dist-packages (from scikit-image->easyocr) (2024.5.22)\n",
            "Requirement already satisfied: PyWavelets>=1.1.1 in /usr/local/lib/python3.10/dist-packages (from scikit-image->easyocr) (1.6.0)\n",
            "Requirement already satisfied: packaging>=20.0 in /usr/local/lib/python3.10/dist-packages (from scikit-image->easyocr) (24.0)\n",
            "Requirement already satisfied: mpmath<1.4.0,>=1.1.0 in /usr/local/lib/python3.10/dist-packages (from sympy->torch) (1.3.0)\n"
          ]
        }
      ]
    },
    {
      "cell_type": "code",
      "source": [
        "import easyocr\n",
        "import cv2\n",
        "from matplotlib import pyplot as plt\n",
        "import numpy as np\n",
        "import pandas as pd\n"
      ],
      "metadata": {
        "id": "zVJKI01vs0ow"
      },
      "execution_count": null,
      "outputs": []
    },
    {
      "cell_type": "code",
      "source": [
        "IMAGE_PATH = '/content/restaurant-bar-receipt-sample.jpg'\n"
      ],
      "metadata": {
        "id": "0TBVWMR1s3TN"
      },
      "execution_count": null,
      "outputs": []
    },
    {
      "cell_type": "code",
      "source": [
        "reader = easyocr.Reader(['en'])\n",
        "result = reader.readtext(IMAGE_PATH)\n",
        "result"
      ],
      "metadata": {
        "colab": {
          "base_uri": "https://localhost:8080/"
        },
        "id": "LHVgcQYNuwWu",
        "outputId": "78309b99-8330-48ab-e848-ef1273286d02"
      },
      "execution_count": null,
      "outputs": [
        {
          "output_type": "stream",
          "name": "stderr",
          "text": [
            "WARNING:easyocr.easyocr:Neither CUDA nor MPS are available - defaulting to CPU. Note: This module is much faster with a GPU.\n"
          ]
        },
        {
          "output_type": "execute_result",
          "data": {
            "text/plain": [
              "[([[141, 37], [680, 37], [680, 89], [141, 89]],\n",
              "  'Hotel Restaurant and Bar',\n",
              "  0.914673435731859),\n",
              " ([[262, 78], [546, 78], [546, 126], [262, 126]],\n",
              "  '1016 6th Ave',\n",
              "  0.49553560744056674),\n",
              " ([[264, 116], [556, 116], [556, 171], [264, 171]],\n",
              "  'New York NY',\n",
              "  0.9949922606077198),\n",
              " ([[216, 156], [600, 156], [600, 210], [216, 210]],\n",
              "  'Tel: 650-309-1992',\n",
              "  0.7521951641655433),\n",
              " ([[221, 271], [407, 271], [407, 307], [221, 307]],\n",
              "  '09/25/2020',\n",
              "  0.9999937799363497),\n",
              " ([[449, 271], [599, 271], [599, 307], [449, 307]],\n",
              "  '12.54 PM',\n",
              "  0.9451658491727521),\n",
              " ([[311, 311], [505, 311], [505, 347], [311, 347]],\n",
              "  'TERMINAL 2',\n",
              "  0.8118425524457545),\n",
              " ([[11, 367], [25, 367], [25, 391], [11, 391]], '1', 0.8372502361291936),\n",
              " ([[73, 359], [399, 359], [399, 397], [73, 397]],\n",
              "  'Hendrick Gin & Tonic',\n",
              "  0.8965266801677237),\n",
              " ([[641, 355], [753, 355], [753, 399], [641, 399]],\n",
              "  'S10.50',\n",
              "  0.985390232311995),\n",
              " ([[11, 425], [25, 425], [25, 453], [11, 453]], '1', 0.9952400480384007),\n",
              " ([[69, 419], [261, 419], [261, 463], [69, 463]],\n",
              "  'Ginger Mule',\n",
              "  0.6208356811317245),\n",
              " ([[661, 419], [753, 419], [753, 457], [661, 457]],\n",
              "  'S9.50',\n",
              "  0.8882203859459843),\n",
              " ([[14, 486], [22, 486], [22, 508], [14, 508]], '1', 0.5375681880054941),\n",
              " ([[71, 481], [335, 481], [335, 517], [71, 517]],\n",
              "  'Glass Camus Zin',\n",
              "  0.7737075166316415),\n",
              " ([[641, 475], [753, 475], [753, 519], [641, 519]],\n",
              "  'S24.00',\n",
              "  0.9886468379934468),\n",
              " ([[13, 545], [25, 545], [25, 571], [13, 571]], '1', 0.8047799109047595),\n",
              " ([[71, 541], [349, 541], [349, 577], [71, 577]],\n",
              "  'Titos Vodka Soda',\n",
              "  0.9764049325457191),\n",
              " ([[643, 537], [753, 537], [753, 579], [643, 579]],\n",
              "  'S12.00',\n",
              "  0.9647945294714645),\n",
              " ([[177, 649], [352, 649], [352, 699], [177, 699]],\n",
              "  'Amount',\n",
              "  0.9999507487348857),\n",
              " ([[562, 648], [704, 648], [704, 700], [562, 700]],\n",
              "  'S60.76',\n",
              "  0.9926390035653206),\n",
              " ([[177, 711], [359, 711], [359, 747], [177, 747]],\n",
              "  'SUB-TOTAL',\n",
              "  0.9676608938953173),\n",
              " ([[593, 709], [703, 709], [703, 749], [593, 749]],\n",
              "  'S56.00',\n",
              "  0.9435277050469753),\n",
              " ([[179, 771], [247, 771], [247, 807], [179, 807]], 'TAX', 0.9998289017298401),\n",
              " ([[611, 767], [703, 767], [703, 807], [611, 807]],\n",
              "  'S4.76',\n",
              "  0.9376055835140442),\n",
              " ([[179, 831], [331, 831], [331, 867], [179, 867]],\n",
              "  'BALANCE',\n",
              "  0.8736790984877645),\n",
              " ([[593, 829], [703, 829], [703, 869], [593, 869]],\n",
              "  'S60.76',\n",
              "  0.9811348843128398),\n",
              " ([[119, 891], [429, 891], [429, 927], [119, 927]],\n",
              "  'CREDIT CARD AUTH',\n",
              "  0.7428309747056442),\n",
              " ([[457, 891], [703, 891], [703, 927], [457, 927]],\n",
              "  'VISA ####3993',\n",
              "  0.9481701075663321),\n",
              " ([[24, 1012], [78, 1012], [78, 1044], [24, 1044]], 'TIP', 0.9994637996729004),\n",
              " ([[23, 1070], [130, 1070], [130, 1106], [23, 1106]],\n",
              "  'TOTAL',\n",
              "  0.9997368478067862),\n",
              " ([[22, 1194], [48, 1194], [48, 1222], [22, 1222]], 'X', 0.9984537384525538),\n",
              " ([[315, 1251], [505, 1251], [505, 1287], [315, 1287]],\n",
              "  'SIGNATURE',\n",
              "  0.9982305883083868)]"
            ]
          },
          "metadata": {},
          "execution_count": 96
        }
      ]
    },
    {
      "cell_type": "code",
      "source": [
        "data = [{'bounding_box': item[0], 'text': item[1], 'confidence': item[2]} for item in result]\n",
        "df = pd.DataFrame(data)\n",
        "print(df)\n"
      ],
      "metadata": {
        "colab": {
          "base_uri": "https://localhost:8080/",
          "height": 176
        },
        "collapsed": true,
        "id": "Ur3If6iUynpr",
        "outputId": "4cacd6da-db2b-45fc-a82d-8ed20e490bf3"
      },
      "execution_count": null,
      "outputs": [
        {
          "output_type": "error",
          "ename": "NameError",
          "evalue": "name 'result' is not defined",
          "traceback": [
            "\u001b[0;31m---------------------------------------------------------------------------\u001b[0m",
            "\u001b[0;31mNameError\u001b[0m                                 Traceback (most recent call last)",
            "\u001b[0;32m<ipython-input-12-b621c644c6f5>\u001b[0m in \u001b[0;36m<cell line: 1>\u001b[0;34m()\u001b[0m\n\u001b[0;32m----> 1\u001b[0;31m \u001b[0mdata\u001b[0m \u001b[0;34m=\u001b[0m \u001b[0;34m[\u001b[0m\u001b[0;34m{\u001b[0m\u001b[0;34m'bounding_box'\u001b[0m\u001b[0;34m:\u001b[0m \u001b[0mitem\u001b[0m\u001b[0;34m[\u001b[0m\u001b[0;36m0\u001b[0m\u001b[0;34m]\u001b[0m\u001b[0;34m,\u001b[0m \u001b[0;34m'text'\u001b[0m\u001b[0;34m:\u001b[0m \u001b[0mitem\u001b[0m\u001b[0;34m[\u001b[0m\u001b[0;36m1\u001b[0m\u001b[0;34m]\u001b[0m\u001b[0;34m,\u001b[0m \u001b[0;34m'confidence'\u001b[0m\u001b[0;34m:\u001b[0m \u001b[0mitem\u001b[0m\u001b[0;34m[\u001b[0m\u001b[0;36m2\u001b[0m\u001b[0;34m]\u001b[0m\u001b[0;34m}\u001b[0m \u001b[0;32mfor\u001b[0m \u001b[0mitem\u001b[0m \u001b[0;32min\u001b[0m \u001b[0mresult\u001b[0m\u001b[0;34m]\u001b[0m\u001b[0;34m\u001b[0m\u001b[0;34m\u001b[0m\u001b[0m\n\u001b[0m\u001b[1;32m      2\u001b[0m \u001b[0mdf\u001b[0m \u001b[0;34m=\u001b[0m \u001b[0mpd\u001b[0m\u001b[0;34m.\u001b[0m\u001b[0mDataFrame\u001b[0m\u001b[0;34m(\u001b[0m\u001b[0mdata\u001b[0m\u001b[0;34m)\u001b[0m\u001b[0;34m\u001b[0m\u001b[0;34m\u001b[0m\u001b[0m\n\u001b[1;32m      3\u001b[0m \u001b[0mprint\u001b[0m\u001b[0;34m(\u001b[0m\u001b[0mdf\u001b[0m\u001b[0;34m)\u001b[0m\u001b[0;34m\u001b[0m\u001b[0;34m\u001b[0m\u001b[0m\n",
            "\u001b[0;31mNameError\u001b[0m: name 'result' is not defined"
          ]
        }
      ]
    },
    {
      "cell_type": "markdown",
      "source": [
        "**Draw the Image**"
      ],
      "metadata": {
        "id": "q_kYQESgu-nR"
      }
    },
    {
      "cell_type": "code",
      "source": [
        "# Check if the result is populated\n",
        "if not result:\n",
        "    raise ValueError(\"The result list is empty\")\n",
        "\n",
        "# Load the image\n",
        "img = cv2.imread(IMAGE_PATH)\n",
        "\n",
        "# Check if the image is loaded successfully\n",
        "if img is None:\n",
        "    raise ValueError(f\"Could not load image from path: {IMAGE_PATH}\")\n",
        "\n",
        "# Resize the image\n",
        "scale_percent = 400  # percent of original size\n",
        "width = int(img.shape[1] * scale_percent / 100)\n",
        "height = int(img.shape[0] * scale_percent / 100)\n",
        "dim = (width, height)\n",
        "\n",
        "# Resize image\n",
        "img = cv2.resize(img, dim, interpolation=cv2.INTER_LINEAR)\n",
        "\n",
        "# Define font and initial spacer\n",
        "font = cv2.FONT_HERSHEY_SIMPLEX\n",
        "spacer = 200\n",
        "\n",
        "# Iterate over each detection in the result\n",
        "for detection in result:\n",
        "    if len(detection) < 2 or len(detection[0]) < 4:\n",
        "        print(f\"Invalid detection format: {detection}\")\n",
        "        continue\n",
        "\n",
        "    try:\n",
        "        # Extract and convert coordinates to integers\n",
        "        top_left = tuple(map(int, detection[0][0]))\n",
        "        bottom_right = tuple(map(int, detection[0][2]))\n",
        "        text = detection[1]\n",
        "\n",
        "        # Adjust coordinates according to the resized image\n",
        "        top_left = (int(top_left[0] * scale_percent / 100), int(top_left[1] * scale_percent / 100))\n",
        "        bottom_right = (int(bottom_right[0] * scale_percent / 100), int(bottom_right[1] * scale_percent / 100))\n",
        "\n",
        "        # Draw rectangle and text\n",
        "        img = cv2.rectangle(img, top_left, bottom_right, (0, 255, 0), 3)\n",
        "        img = cv2.putText(img, text, (20, spacer), font, 0.5, (0, 255, 0), 2, cv2.LINE_AA)\n",
        "\n",
        "        spacer += 15\n",
        "    except Exception as e:\n",
        "        print(f\"Error processing detection {detection}: {e}\")\n",
        "\n",
        "# Convert BGR image to RGB for matplotlib\n",
        "img_rgb = cv2.cvtColor(img, cv2.COLOR_BGR2RGB)\n",
        "\n",
        "# Display the image\n",
        "plt.imshow(img_rgb)\n",
        "plt.axis('off')  # Hide axes\n",
        "plt.show()"
      ],
      "metadata": {
        "id": "dCeMEeKwvIZ0",
        "colab": {
          "base_uri": "https://localhost:8080/",
          "height": 406
        },
        "outputId": "9f20e216-5bd7-4949-93f2-2fa09d1948bc"
      },
      "execution_count": null,
      "outputs": [
        {
          "output_type": "display_data",
          "data": {
            "text/plain": [
              "<Figure size 640x480 with 1 Axes>"
            ],
            "image/png": "[encoded data removed]"
          },
          "metadata": {}
        }
      ]
    },
    {
      "cell_type": "markdown",
      "source": [
        "MultiLines"
      ],
      "metadata": {
        "id": "fwZMjQmhvVhr"
      }
    },
    {
      "cell_type": "markdown",
      "source": [
        "Text"
      ],
      "metadata": {
        "id": "0o77BFNRvT6U"
      }
    },
    {
      "cell_type": "code",
      "source": [
        "import pandas as pd\n",
        "\n",
        "# Assuming `result` is a list of tuples (bounding_box, text, confidence)\n",
        "data = [{'bounding_box': item[0], 'text': item[1], 'confidence': item[2]} for item in result]\n",
        "df = pd.DataFrame(data)\n",
        "\n",
        "# Initialize lists for the new columns\n",
        "product_names = []\n",
        "items_bought = []\n",
        "amounts = []\n",
        "\n",
        "# List to hold all text entries\n",
        "all_texts = []\n",
        "\n",
        "# Variable to hold the product name until an amount is found\n",
        "pending_product_name = None\n",
        "# Variable to identify if the current row is a summary row\n",
        "is_summary_row = False\n",
        "\n",
        "\n",
        "for index, row in df.iterrows():\n",
        "\n",
        "    text = row['text']\n",
        "    all_texts.append(text)\n",
        "\n",
        "\n",
        "\n",
        "    if pending_product_name is not None:\n",
        "        # If there's a pending product name, check if this is an amount\n",
        "        if (text.startswith('S') or text.startswith('$')) and len(text) > 1 and text[1:].replace('.', '', 1).isdigit():\n",
        "            # This is an amount\n",
        "            product_names.append(pending_product_name)\n",
        "            amounts.append(text)\n",
        "\n",
        "            # Get the text before the pending product name as the quantity/item bought\n",
        "            previous_text = all_texts[-3] if len(all_texts) >= 3 else ''\n",
        "            # Ensure the previous text doesn't start with 'S' or '$'\n",
        "            if previous_text.startswith('S') or previous_text.startswith('$'):\n",
        "                items_bought.append('')\n",
        "            else:\n",
        "                items_bought.append(previous_text)\n",
        "            pending_product_name = None  # Reset pending product name\n",
        "        else:\n",
        "            # If not an amount, reset pending product name\n",
        "            pending_product_name = None\n",
        "\n",
        "    # Check if the current text is a potential product name\n",
        "    if pending_product_name is None:\n",
        "        if text:  # Include all text entries\n",
        "            pending_product_name = text\n",
        "\n",
        "# Create the final DataFrame\n",
        "final_df = pd.DataFrame({\n",
        "    'Product Name': product_names,\n",
        "    'Item Bought': items_bought,\n",
        "    'Amount': amounts\n",
        "})\n",
        "\n",
        "# Filter out rows where 'Amount' is empty\n",
        "final_df = final_df[final_df['Amount'] != '']\n",
        "\n",
        "print(final_df)\n"
      ],
      "metadata": {
        "colab": {
          "base_uri": "https://localhost:8080/"
        },
        "id": "OGYt3cAiveG4",
        "outputId": "8aa950b7-fa8b-4933-e1ce-6aee32f1622e"
      },
      "execution_count": null,
      "outputs": [
        {
          "output_type": "stream",
          "name": "stdout",
          "text": [
            "           Product Name Item Bought  Amount\n",
            "0  Hendrick Gin & Tonic           1  S10.50\n",
            "1           Ginger Mule           1   S9.50\n",
            "2       Glass Camus Zin           1  S24.00\n",
            "3      Titos Vodka Soda           1  S12.00\n",
            "4                Amount              S60.76\n",
            "5             SUB-TOTAL              S56.00\n",
            "6                   TAX               S4.76\n",
            "7               BALANCE              S60.76\n"
          ]
        }
      ]
    },
    {
      "cell_type": "code",
      "source": [
        "IMAGE_PATH = '/content/8bcef96da97b01fa0936e76ece3f690b.jpg'\n",
        "\n",
        "reader = easyocr.Reader(['en'])\n",
        "result = reader.readtext(IMAGE_PATH)\n",
        "\n",
        "data = [{'bounding_box': item[0], 'text': item[1], 'confidence': item[2]} for item in result]\n",
        "df = pd.DataFrame(data)\n",
        "print(df)\n"
      ],
      "metadata": {
        "colab": {
          "base_uri": "https://localhost:8080/"
        },
        "id": "ZXHioT8UjDzQ",
        "outputId": "d1bd9a3a-fee5-49a1-8ed5-3073718e57c7"
      },
      "execution_count": null,
      "outputs": [
        {
          "output_type": "stream",
          "name": "stderr",
          "text": [
            "WARNING:easyocr.easyocr:Neither CUDA nor MPS are available - defaulting to CPU. Note: This module is much faster with a GPU.\n"
          ]
        },
        {
          "output_type": "stream",
          "name": "stdout",
          "text": [
            "                                        bounding_box                text  \\\n",
            "0       [[169, 47], [374, 47], [374, 77], [169, 77]]      RestaurantName   \n",
            "1       [[18, 91], [128, 91], [128, 118], [18, 118]]           Address 1   \n",
            "2     [[18, 133], [130, 133], [130, 162], [18, 162]]           Address 2   \n",
            "3   [[303, 221], [531, 221], [531, 257], [303, 257]]  3/15/09 6.06.44 PM   \n",
            "4     [[18, 310], [134, 310], [134, 338], [18, 338]]          Table: 201   \n",
            "5   [[192, 310], [320, 310], [320, 340], [192, 340]]          Chk: #1111   \n",
            "6   [[396, 310], [486, 310], [486, 338], [396, 338]]            Guest: 2   \n",
            "7   [[142, 484], [332, 484], [332, 514], [142, 514]]       5 BLOODY MARY   \n",
            "8   [[348, 484], [430, 484], [430, 512], [348, 512]]             $ 40.75   \n",
            "9   [[142, 528], [332, 528], [332, 558], [142, 558]]      1 FRESH OYSTER   \n",
            "10  [[346, 528], [432, 528], [432, 556], [346, 556]]             $ 12.50   \n",
            "11  [[206, 572], [332, 572], [332, 600], [206, 600]]            SUBTOTAL   \n",
            "12  [[346, 570], [432, 570], [432, 600], [346, 600]]             $ 53.25   \n",
            "13  [[280, 616], [334, 616], [334, 644], [280, 644]]                 TAX   \n",
            "14  [[346, 614], [420, 614], [420, 644], [346, 644]]              $ 5.33   \n",
            "15  [[212, 659], [332, 659], [332, 689], [212, 689]]             GRATUTY   \n",
            "16  [[348, 660], [416, 660], [416, 688], [348, 688]]              $ 6.00   \n",
            "17  [[196, 704], [332, 704], [332, 732], [196, 732]]           TOTAL DUE   \n",
            "18  [[346, 704], [430, 704], [430, 730], [346, 730]]             $ 64.60   \n",
            "\n",
            "    confidence  \n",
            "0     0.994942  \n",
            "1     0.683069  \n",
            "2     0.989018  \n",
            "3     0.769055  \n",
            "4     0.850197  \n",
            "5     0.633473  \n",
            "6     0.998424  \n",
            "7     0.728482  \n",
            "8     0.943596  \n",
            "9     0.979684  \n",
            "10    0.638547  \n",
            "11    0.999191  \n",
            "12    0.952474  \n",
            "13    0.973929  \n",
            "14    0.445723  \n",
            "15    0.999746  \n",
            "16    0.782106  \n",
            "17    0.922038  \n",
            "18    0.735886  \n"
          ]
        }
      ]
    },
    {
      "cell_type": "code",
      "source": [
        "# Check if the result is populated\n",
        "if not result:\n",
        "    raise ValueError(\"The result list is empty\")\n",
        "\n",
        "# Load the image\n",
        "img = cv2.imread(IMAGE_PATH)\n",
        "\n",
        "# Check if the image is loaded successfully\n",
        "if img is None:\n",
        "    raise ValueError(f\"Could not load image from path: {IMAGE_PATH}\")\n",
        "\n",
        "# Resize the image\n",
        "scale_percent = 400  # percent of original size\n",
        "width = int(img.shape[1] * scale_percent / 100)\n",
        "height = int(img.shape[0] * scale_percent / 100)\n",
        "dim = (width, height)\n",
        "\n",
        "# Resize image\n",
        "img = cv2.resize(img, dim, interpolation=cv2.INTER_LINEAR)\n",
        "\n",
        "# Define font and initial spacer\n",
        "font = cv2.FONT_HERSHEY_SIMPLEX\n",
        "spacer = 200\n",
        "\n",
        "# Iterate over each detection in the result\n",
        "for detection in result:\n",
        "    if len(detection) < 2 or len(detection[0]) < 4:\n",
        "        print(f\"Invalid detection format: {detection}\")\n",
        "        continue\n",
        "\n",
        "    try:\n",
        "        # Extract and convert coordinates to integers\n",
        "        top_left = tuple(map(int, detection[0][0]))\n",
        "        bottom_right = tuple(map(int, detection[0][2]))\n",
        "        text = detection[1]\n",
        "\n",
        "        # Adjust coordinates according to the resized image\n",
        "        top_left = (int(top_left[0] * scale_percent / 100), int(top_left[1] * scale_percent / 100))\n",
        "        bottom_right = (int(bottom_right[0] * scale_percent / 100), int(bottom_right[1] * scale_percent / 100))\n",
        "\n",
        "        # Draw rectangle and text\n",
        "        img = cv2.rectangle(img, top_left, bottom_right, (0, 255, 0), 3)\n",
        "        img = cv2.putText(img, text, (20, spacer), font, 0.5, (0, 255, 0), 2, cv2.LINE_AA)\n",
        "\n",
        "        spacer += 15\n",
        "    except Exception as e:\n",
        "        print(f\"Error processing detection {detection}: {e}\")\n",
        "\n",
        "# Convert BGR image to RGB for matplotlib\n",
        "img_rgb = cv2.cvtColor(img, cv2.COLOR_BGR2RGB)\n",
        "\n",
        "# Display the image\n",
        "plt.imshow(img_rgb)\n",
        "plt.axis('off')  # Hide axes\n",
        "plt.show()"
      ],
      "metadata": {
        "id": "kAVf4pOfl-g6",
        "outputId": "9a86cdcd-41af-4ed4-c6e4-c023439e2fc5",
        "colab": {
          "base_uri": "https://localhost:8080/",
          "height": 406
        }
      },
      "execution_count": null,
      "outputs": [
        {
          "output_type": "display_data",
          "data": {
            "text/plain": [
              "<Figure size 640x480 with 1 Axes>"
            ],
            "image/png": "[encoded data removed]"
          },
          "metadata": {}
        }
      ]
    },
    {
      "cell_type": "code",
      "source": [
        "# Convert to DataFrame\n",
        "df = pd.DataFrame(data, columns=['bounding_box', 'text', 'confidence'])\n",
        "\n",
        "# Initialize lists for the new columns\n",
        "product_names = []\n",
        "items_bought = []\n",
        "amounts = []\n",
        "\n",
        "# Variable to hold the product name until an amount is found\n",
        "pending_product_name = None\n",
        "\n",
        "# Variable to identify if the current row is a summary row\n",
        "is_summary_row = False\n",
        "\n",
        "for index, row in df.iterrows():\n",
        "    text = row['text'].strip()\n",
        "\n",
        "    # Check for summary rows and skip them\n",
        "    if text in ['SUBTOTAL', 'TAX', 'GRATUTY', 'TOTAL DUE']:\n",
        "        is_summary_row = True\n",
        "        continue\n",
        "    elif text.startswith('$') and is_summary_row:\n",
        "        is_summary_row = False\n",
        "        continue\n",
        "\n",
        "    # Skip non-item rows\n",
        "    if any(keyword in text for keyword in ['Table:', 'Chk:', 'Guest:', 'RestaurantName', 'Address', 'PM']):\n",
        "        continue\n",
        "\n",
        "    # Split the text based on currency symbols ('$')\n",
        "    text_parts = text.split('$')\n",
        "    for part in text_parts:\n",
        "        part = part.strip()\n",
        "        if part:\n",
        "            if part.replace('.', '', 1).isdigit():  # Check if the part is a valid amount\n",
        "                amounts.append('$' + part)  # Append amount with '$'\n",
        "                # If there's a pending product name, add it to the list\n",
        "                if pending_product_name:\n",
        "                    # Extract quantity and product name\n",
        "                    words = pending_product_name.split(' ')\n",
        "                    if len(words) > 1 and words[0].isdigit():  # Check if the first part is a number\n",
        "                        items_bought.append(words[0])  # If yes, it's quantity\n",
        "                        product_names.append(' '.join(words[1:]))  # The rest is the product name\n",
        "                    else:\n",
        "                        items_bought.append('1')  # If no quantity specified, assume one\n",
        "                        product_names.append(pending_product_name)  # No quantity, so entire text is product name\n",
        "                    pending_product_name = None\n",
        "            else:\n",
        "                # Check if the part contains alphabets or not\n",
        "                if any(char.isalpha() for char in part):\n",
        "                    # If it contains alphabets, it's a potential product name\n",
        "                    if pending_product_name:\n",
        "                        # If there's already a pending product name, append it to the list\n",
        "                        product_names.append(pending_product_name)\n",
        "                    pending_product_name = part  # Set the new pending product name\n",
        "                else:\n",
        "                    # If it doesn't contain alphabets, it's part of the product name or irrelevant text\n",
        "                    if pending_product_name:\n",
        "                        # If there's a pending product name, append it with the current part\n",
        "                        pending_product_name += ' ' + part\n",
        "\n",
        "# Create the final DataFrame\n",
        "final_df = pd.DataFrame({\n",
        "    'Product Name': product_names,\n",
        "    'Item Bought': items_bought,\n",
        "    'Amount': amounts\n",
        "})\n",
        "\n",
        "print(final_df)"
      ],
      "metadata": {
        "colab": {
          "base_uri": "https://localhost:8080/"
        },
        "id": "aQyUEZotYkjJ",
        "outputId": "6dc97504-db85-4ab6-cdee-7c13d2060010"
      },
      "execution_count": null,
      "outputs": [
        {
          "output_type": "stream",
          "name": "stdout",
          "text": [
            "   Product Name Item Bought  Amount\n",
            "0   BLOODY MARY           5  $40.75\n",
            "1  FRESH OYSTER           1  $12.50\n"
          ]
        }
      ]
    }
  ]
}